{
 "cells": [
  {
   "attachments": {},
   "cell_type": "markdown",
   "metadata": {},
   "source": [
    "\"\"\" ann 05 -->  \n",
    "Problem statement : Implement an Artificial Neural Network training process in Python by using\n",
    "Forward Propagation, and Back Propagation.\"\"\"\n"
   ]
  },
  {
   "cell_type": "code",
   "execution_count": 31,
   "metadata": {},
   "outputs": [
    {
     "name": "stdout",
     "output_type": "stream",
     "text": [
      "Final Loss: 0.24328705971048117\n"
     ]
    }
   ],
   "source": [
    "import numpy as np\n",
    "\n",
    "# Define the sigmoid activation function\n",
    "def sigmoid(x):\n",
    "    return 1 / (1 + np.exp(-x))\n",
    "\n",
    "# Define the derivative of the sigmoid function\n",
    "def sigmoid_derivative(x):\n",
    "    return x * (1 - x)\n",
    "\n",
    "# Define the neural network training function\n",
    "def train_neural_network(X, y, hidden_size, epochs, learning_rate):\n",
    "    input_size, output_size = X.shape[1], y.shape[1]\n",
    "    # Initialize the weights with random values\n",
    "    weights1 = np.random.randn(input_size, hidden_size)\n",
    "    weights2 = np.random.randn(hidden_size, output_size)\n",
    "    for _ in range(epochs):\n",
    "        # Forward propagation\n",
    "        hidden_layer = sigmoid(X.dot(weights1))\n",
    "        output_layer = sigmoid(hidden_layer.dot(weights2))\n",
    "        \n",
    "        # Back propagation\n",
    "        output_error = y - output_layer\n",
    "        output_delta = output_error * sigmoid_derivative(output_layer)\n",
    "        \n",
    "        hidden_error = output_delta.dot(weights2.T)\n",
    "        hidden_delta = hidden_error * sigmoid_derivative(hidden_layer)\n",
    "        \n",
    "        # Update the weights using gradient descent\n",
    "        weights2 += learning_rate * hidden_layer.T.dot(output_delta)\n",
    "        weights1 += learning_rate * X.T.dot(hidden_delta)\n",
    "    \n",
    "    # Print the final loss\n",
    "    loss = np.mean(np.square(y - output_layer))\n",
    "    print(\"Final Loss:\", loss)\n",
    "\n",
    "# Example usage\n",
    "X = np.array([[0, 0], \n",
    "              [0, 1],\n",
    "              [1, 0], \n",
    "              [1, 1]])\n",
    "y = np.array([[0], [1], [1], [0]])\n",
    "\n",
    "# Train the neural network with 2 hidden neurons for 10000 epochs and learning rate of 0.1\n",
    "train_neural_network(X, y, hidden_size=1, epochs=100000, learning_rate=0.1)\n"
   ]
  },
  {
   "cell_type": "code",
   "execution_count": null,
   "metadata": {},
   "outputs": [],
   "source": []
  },
  {
   "cell_type": "code",
   "execution_count": null,
   "metadata": {},
   "outputs": [],
   "source": []
  }
 ],
 "metadata": {
  "kernelspec": {
   "display_name": "Python 3",
   "language": "python",
   "name": "python3"
  },
  "language_info": {
   "codemirror_mode": {
    "name": "ipython",
    "version": 3
   },
   "file_extension": ".py",
   "mimetype": "text/x-python",
   "name": "python",
   "nbconvert_exporter": "python",
   "pygments_lexer": "ipython3",
   "version": "3.9.1"
  },
  "orig_nbformat": 4
 },
 "nbformat": 4,
 "nbformat_minor": 2
}
