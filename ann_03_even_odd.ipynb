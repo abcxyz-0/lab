{
 "cells": [
  {
   "attachments": {},
   "cell_type": "markdown",
   "metadata": {},
   "source": [
    "\"\"\" ann 03 --> \n",
    "Write a Python Program using Perceptron Neural Network to recognise \n",
    "even and odd numbers. Given numbers are in ASCII form 0 to 9 \"\"\""
   ]
  },
  {
   "cell_type": "code",
   "execution_count": 18,
   "metadata": {},
   "outputs": [
    {
     "name": "stdout",
     "output_type": "stream",
     "text": [
      "The number 2 is even.\n",
      "The number 5 is odd.\n",
      "The number 9 is odd.\n"
     ]
    }
   ],
   "source": [
    "from sklearn.linear_model import Perceptron\n",
    "import numpy as np\n",
    "\n",
    "# Training data      0    1      2     3    4      5     6      7    8      9\n",
    "X_train = np.array([[48], [49], [50], [51], [52], [53], [54], [55], [56], [57]])  # ASCII values of digits 0 to 9\n",
    "y_train = np.array([0   ,    1,    0,     1,    0,    1,    0,    1,   0,    1])  # Even (0) or odd (1)\n",
    "\n",
    "perceptron = Perceptron()\n",
    "perceptron.fit(X_train % 2, y_train)  \n",
    "\n",
    "X_test = np.array([[50], [53], [57]])  # ASCII values of digits 2, 5, and 8\n",
    "\n",
    "y_pred = perceptron.predict(X_test % 2)\n",
    "for i, val in enumerate(y_pred):\n",
    "    digit = chr(X_test[i][0]) # chr character value\n",
    "    if val == 0:\n",
    "        print(f\"The number {digit} is even.\")\n",
    "    else:\n",
    "        print(f\"The number {digit} is odd.\")\n"
   ]
  }
 ],
 "metadata": {
  "kernelspec": {
   "display_name": "Python 3",
   "language": "python",
   "name": "python3"
  },
  "language_info": {
   "codemirror_mode": {
    "name": "ipython",
    "version": 3
   },
   "file_extension": ".py",
   "mimetype": "text/x-python",
   "name": "python",
   "nbconvert_exporter": "python",
   "pygments_lexer": "ipython3",
   "version": "3.9.1"
  },
  "orig_nbformat": 4
 },
 "nbformat": 4,
 "nbformat_minor": 2
}
