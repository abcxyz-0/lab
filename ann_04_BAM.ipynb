{
 "cells": [
  {
   "attachments": {},
   "cell_type": "markdown",
   "metadata": {},
   "source": [
    "\"\"\"ann 4.ipynb                                                                                                             \n",
    "-->\n",
    "In this program, the bam function implements the Bidirectional Associative Memory (BAM) algorithm. It takes input_patterns and output_patterns as input, which are the pairs of vectors.\n",
    "The BAM algorithm calculates the weight matrix by taking the dot product of the transpose of the output_patterns and input_patterns. Then, it defines the activation function that applies the weight matrix to an input pattern to retrieve the associated output pattern. The activation function uses a simple threshold-based approach, where values greater than or equal to 0 are mapped to 1, and values less than 0 are mapped to -1.\n",
    "Finally, the BAM algorithm is applied to each input pattern, and the input and output patterns are printed.\n",
    "In the provided example, we have two pairs of input-output patterns: [1, -1, 1, -1] associated with [1, 1], and [1, 1, -1, -1] associated with [-1, -1]. The program will display the resulting output patterns for each input pattern:\n",
    "\"\"\""
   ]
  },
  {
   "cell_type": "code",
   "execution_count": 20,
   "metadata": {},
   "outputs": [
    {
     "name": "stdout",
     "output_type": "stream",
     "text": [
      "input patterns | output patterns\n",
      "[ 1 -1  1 -1] | [1 1]\n",
      "[ 1  1 -1 -1] | [-1 -1]\n"
     ]
    }
   ],
   "source": [
    "import numpy as np\n",
    "input_patterns=[[1,-1,1,-1],[1,1,-1,-1]]\n",
    "output_patterns=[[1,1],[-1,-1]]\n",
    "\n",
    "def bam(input_patterns,output_patterns):\n",
    "    input_patterns=np.array(input_patterns)\n",
    "    output_patterns= np.array(output_patterns)\n",
    "    \n",
    "    weight_matrix = np.dot(output_patterns.T,input_patterns)\n",
    "    \n",
    "    def activation(output_pattern):\n",
    "        output_pattern = np.dot(weight_matrix,input_pattern)\n",
    "        output_pattern[output_pattern>=0]=1\n",
    "        output_pattern[output_pattern<0]=-1\n",
    "        return output_pattern\n",
    "    \n",
    "    print(\"input patterns | output patterns\")\n",
    "    \n",
    "    for i in range(input_patterns.shape[0]):\n",
    "        input_pattern = input_patterns[i]\n",
    "        output_pattern = activation(input_pattern)\n",
    "        print(f\"{input_pattern} | {output_pattern}\")\n",
    "        \n",
    "bam(input_patterns,output_patterns)"
   ]
  },
  {
   "cell_type": "code",
   "execution_count": null,
   "metadata": {},
   "outputs": [],
   "source": []
  }
 ],
 "metadata": {
  "kernelspec": {
   "display_name": "Python 3",
   "language": "python",
   "name": "python3"
  },
  "language_info": {
   "codemirror_mode": {
    "name": "ipython",
    "version": 3
   },
   "file_extension": ".py",
   "mimetype": "text/x-python",
   "name": "python",
   "nbconvert_exporter": "python",
   "pygments_lexer": "ipython3",
   "version": "3.9.1"
  },
  "orig_nbformat": 4
 },
 "nbformat": 4,
 "nbformat_minor": 2
}
