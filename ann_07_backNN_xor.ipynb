{
 "cells": [
  {
   "attachments": {},
   "cell_type": "markdown",
   "metadata": {},
   "source": [
    "\"\"\"ann 07 ->                                                                                                            \n",
    "Implement to show Back Propagation Network for XOR function with Binary Input and Output\n",
    "\"\"\""
   ]
  },
  {
   "cell_type": "code",
   "execution_count": null,
   "metadata": {},
   "outputs": [
    {
     "name": "stdout",
     "output_type": "stream",
     "text": [
      "Output after training:\n",
      "[[0.02471883]\n",
      " [0.96092558]\n",
      " [0.96745423]\n",
      " [0.03116735]]\n"
     ]
    }
   ],
   "source": [
    "import numpy as np\n",
    "import math\n",
    "def sigmoid(x):\n",
    "    return 1 / (1 + np.exp(-x))\n",
    "def sigmoid_derivative(x):\n",
    "    return x * (1 - x) \n",
    "# Define the XOR dataset\n",
    "X = np.array([[0, 0], [0, 1], [1, 0], [0, 0]])\n",
    "y = np.array([[0], [1], [1], [0]])\n",
    "np.random.seed(42)\n",
    "# Initialize the weights randomly with mean 0\n",
    "synapse_0 = 2 * np.random.random((2, 3)) - 1\n",
    "synapse_1 = 2 * np.random.random((3, 1)) - 1\n",
    "# Train the neural network\n",
    "for i in range(10000):\n",
    "    # Forward propagation\n",
    "    layer_0 = X\n",
    "    layer_1 = sigmoid(np.dot(layer_0, synapse_0))\n",
    "    layer_2 = sigmoid(np.dot(layer_1, synapse_1))\n",
    "    # Calculate the error\n",
    "    layer_2_error = y - layer_2\n",
    "    # Back propagation\n",
    "    layer_2_delta = layer_2_error * sigmoid_derivative(layer_2)\n",
    "    layer_1_error = layer_2_delta.dot(synapse_1.T)\n",
    "    layer_1_delta = layer_1_error * sigmoid_derivative(layer_1)\n",
    "    # Update the weights\n",
    "    synapse_1 += layer_1.T.dot(layer_2_delta)\n",
    "    synapse_0 += layer_0.T.dot(layer_1_delta)  #T ==> transpose\n",
    "# Print the final output after training\n",
    "\n",
    "print(\"Output after training:\")\n",
    "print(layer_2)\n"
   ]
  }
 ],
 "metadata": {
  "kernelspec": {
   "display_name": "Python 3",
   "language": "python",
   "name": "python3"
  },
  "language_info": {
   "codemirror_mode": {
    "name": "ipython",
    "version": 3
   },
   "file_extension": ".py",
   "mimetype": "text/x-python",
   "name": "python",
   "nbconvert_exporter": "python",
   "pygments_lexer": "ipython3",
   "version": "3.9.1"
  },
  "orig_nbformat": 4
 },
 "nbformat": 4,
 "nbformat_minor": 2
}
