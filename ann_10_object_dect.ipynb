{
 "cells": [
  {
   "cell_type": "code",
   "execution_count": 1,
   "metadata": {},
   "outputs": [
    {
     "name": "stdout",
     "output_type": "stream",
     "text": [
      "1/1 [==============================] - 12s 12s/step\n",
      "lion: 89.94056582450867%\n",
      "collie: 0.2669657114893198%\n",
      "Afghan_hound: 0.24814337957650423%\n",
      "chow: 0.20554286893457174%\n",
      "Sussex_spaniel: 0.15586294466629624%\n"
     ]
    }
   ],
   "source": [
    "\"\"\" ann 10 -->                                                                                          \n",
    "Write python program to implement CNN object detection . Discuss numerous performance evalution metrics\n",
    "for evaluating the object detecting algorithm performace \"\"\"\n",
    "\n",
    "import tensorflow as tf\n",
    "\n",
    "model = tf.keras.applications.MobileNetV2(weights='imagenet')\n",
    "\n",
    "# Load image and preprocess it\n",
    "image = tf.keras.preprocessing.image.load_img('download.jpeg', target_size=(224, 224))\n",
    "image = tf.keras.preprocessing.image.img_to_array(image)\n",
    "image = tf.keras.applications.mobilenet_v2.preprocess_input(image)\n",
    "image = tf.expand_dims(image, axis=0)\n",
    "\n",
    "# Run object detection\n",
    "predictions = model.predict(image)\n",
    "decoded_predictions = tf.keras.applications.mobilenet_v2.decode_predictions(predictions)\n",
    "\n",
    "# Print top predicted objects\n",
    "for _, label, confidence in decoded_predictions[0]:\n",
    "    print(f\"{label}: {confidence * 100}%\")\n"
   ]
  },
  {
   "cell_type": "code",
   "execution_count": null,
   "metadata": {},
   "outputs": [],
   "source": []
  }
 ],
 "metadata": {
  "kernelspec": {
   "display_name": "Python 3",
   "language": "python",
   "name": "python3"
  },
  "language_info": {
   "codemirror_mode": {
    "name": "ipython",
    "version": 3
   },
   "file_extension": ".py",
   "mimetype": "text/x-python",
   "name": "python",
   "nbconvert_exporter": "python",
   "pygments_lexer": "ipython3",
   "version": "3.9.1"
  },
  "orig_nbformat": 4
 },
 "nbformat": 4,
 "nbformat_minor": 2
}
