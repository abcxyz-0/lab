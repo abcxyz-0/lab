{
 "cells": [
  {
   "cell_type": "code",
   "execution_count": 11,
   "metadata": {},
   "outputs": [
    {
     "name": "stdout",
     "output_type": "stream",
     "text": [
      "[[ 4  0  0 -4]\n",
      " [ 0  4 -4  0]\n",
      " [ 0 -4  4  0]\n",
      " [-4  0  0  4]]\n",
      "[[ 0  0  0 -4]\n",
      " [ 0  0 -4  0]\n",
      " [ 0 -4  0  0]\n",
      " [-4  0  0  0]]\n",
      "Retrieved Pattern:\n",
      "[-1 -1  1  1]\n",
      "[-4 -4  4  4]\n"
     ]
    }
   ],
   "source": [
    "\"\"\" ann 09 -->                 Write a python program to design a Hopfield Network which stores 4 vectors.                                                                                                   \n",
    "the Hopfield network is trained by calculating the weight matrix using the dot product of the \n",
    "patterns with their transpose. The diagonal elements of the weight matrix are set to zero.To recall a pattern, a recall pattern is \n",
    "provided, and the retrieved pattern is obtained by taking the sign of the dot product of the weight matrix with the recall pattern.\n",
    "The retrieved pattern is then printed.\n",
    "Please note that in this simplified version, the sign activation function is used instead of the signum function to calculate the \n",
    "sign of the dot product. This works because the patterns are binary values of 1 and -1.\"\"\"\n",
    "\n",
    "import numpy as np\n",
    "# Define the patterns to be stored\n",
    "patterns = np.array([\n",
    "    [1, -1, 1, -1],\n",
    "    [-1, 1, -1, 1],\n",
    "    [1, 1, -1, -1],\n",
    "    [-1, -1, 1, 1]\n",
    "])\n",
    "# Train the Hopfield network\n",
    "weights = np.dot(patterns.T, patterns)\n",
    "print(weights)\n",
    "np.fill_diagonal(weights, 0)\n",
    "print(weights)\n",
    "# Recall a pattern\n",
    "recall_pattern = np.array([-1, -1, 1, 1])\n",
    "retrieved_pattern = np.sign(np.dot(weights, recall_pattern))\n",
    "print(\"Retrieved Pattern:\")\n",
    "print(retrieved_pattern)\n",
    "print(np.dot(weights, recall_pattern))\n"
   ]
  },
  {
   "cell_type": "code",
   "execution_count": null,
   "metadata": {},
   "outputs": [],
   "source": []
  }
 ],
 "metadata": {
  "kernelspec": {
   "display_name": "Python 3",
   "language": "python",
   "name": "python3"
  },
  "language_info": {
   "codemirror_mode": {
    "name": "ipython",
    "version": 3
   },
   "file_extension": ".py",
   "mimetype": "text/x-python",
   "name": "python",
   "nbconvert_exporter": "python",
   "pygments_lexer": "ipython3",
   "version": "3.9.1"
  },
  "orig_nbformat": 4
 },
 "nbformat": 4,
 "nbformat_minor": 2
}
