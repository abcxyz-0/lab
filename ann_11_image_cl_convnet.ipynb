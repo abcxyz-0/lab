{
 "cells": [
  {
   "attachments": {},
   "cell_type": "markdown",
   "metadata": {},
   "source": [
    "ann 11 -->\n",
    "Implement an image classification challenge, create and train a ConvNet in Python using TensorFlow"
   ]
  },
  {
   "cell_type": "code",
   "execution_count": 1,
   "metadata": {},
   "outputs": [
    {
     "name": "stdout",
     "output_type": "stream",
     "text": [
      "A local file was found, but it seems to be incomplete or outdated because the auto file hash does not match the original value of 6d958be074577803d12ecdefd02955f39262c83c16fe9348329d7fe0b5c001ce so we will re-download the data.\n",
      "Downloading data from https://www.cs.toronto.edu/~kriz/cifar-10-python.tar.gz\n",
      "170498071/170498071 [==============================] - 32s 0us/step\n",
      "Epoch 1/10\n",
      "1563/1563 [==============================] - 41s 24ms/step - loss: 1.4592 - accuracy: 0.4816 - val_loss: 1.2817 - val_accuracy: 0.5461\n",
      "Epoch 2/10\n",
      "1563/1563 [==============================] - 41s 26ms/step - loss: 1.1901 - accuracy: 0.5827 - val_loss: 1.1709 - val_accuracy: 0.5887\n",
      "Epoch 3/10\n",
      "1563/1563 [==============================] - 57s 36ms/step - loss: 1.0714 - accuracy: 0.6270 - val_loss: 1.0876 - val_accuracy: 0.6160\n",
      "Epoch 4/10\n",
      "1563/1563 [==============================] - 78s 50ms/step - loss: 0.9900 - accuracy: 0.6524 - val_loss: 1.1066 - val_accuracy: 0.6123\n",
      "Epoch 5/10\n",
      "1563/1563 [==============================] - 102s 65ms/step - loss: 0.9215 - accuracy: 0.6765 - val_loss: 1.0558 - val_accuracy: 0.6308\n",
      "Epoch 6/10\n",
      "1563/1563 [==============================] - 76s 48ms/step - loss: 0.8682 - accuracy: 0.6972 - val_loss: 1.0600 - val_accuracy: 0.6379\n",
      "Epoch 7/10\n",
      "1563/1563 [==============================] - 73s 47ms/step - loss: 0.8089 - accuracy: 0.7146 - val_loss: 1.0656 - val_accuracy: 0.6391\n",
      "Epoch 8/10\n",
      "1563/1563 [==============================] - 58s 37ms/step - loss: 0.7579 - accuracy: 0.7344 - val_loss: 1.1263 - val_accuracy: 0.6214\n",
      "Epoch 9/10\n",
      "1563/1563 [==============================] - 60s 39ms/step - loss: 0.7108 - accuracy: 0.7507 - val_loss: 1.1033 - val_accuracy: 0.6344\n",
      "Epoch 10/10\n",
      "1563/1563 [==============================] - 59s 38ms/step - loss: 0.6676 - accuracy: 0.7660 - val_loss: 1.1330 - val_accuracy: 0.6334\n",
      "313/313 [==============================] - 4s 11ms/step - loss: 1.1330 - accuracy: 0.6334\n",
      "Test Loss: 1.1330446004867554\n",
      "Test Accuracy: 0.633400022983551\n"
     ]
    }
   ],
   "source": [
    "import tensorflow as tf\n",
    "\n",
    "# Load and preprocess the dataset\n",
    "(X_train, y_train), (X_test, y_test) = tf.keras.datasets.cifar10.load_data()\n",
    "X_train = X_train / 255.0\n",
    "X_test = X_test / 255.0\n",
    "\n",
    "# Define the ConvNet architecture\n",
    "model = tf.keras.Sequential([\n",
    "    tf.keras.layers.Conv2D(32, (3, 3), activation='relu', input_shape=(32, 32, 3)),\n",
    "    tf.keras.layers.MaxPooling2D((2, 2)),\n",
    "    tf.keras.layers.Flatten(),\n",
    "    tf.keras.layers.Dense(64, activation='relu'),\n",
    "    tf.keras.layers.Dense(10, activation='softmax')\n",
    "])\n",
    "\n",
    "# Compile the model\n",
    "model.compile(optimizer='adam', loss='sparse_categorical_crossentropy', metrics=['accuracy'])\n",
    "\n",
    "# Train the model\n",
    "model.fit(X_train, y_train, epochs=10, validation_data=(X_test, y_test))\n",
    "\n",
    "# Evaluate the model on the test set\n",
    "test_loss, test_accuracy = model.evaluate(X_test, y_test)\n",
    "print(f'Test Loss: {test_loss}')\n",
    "print(f'Test Accuracy: {test_accuracy}')\n"
   ]
  },
  {
   "cell_type": "code",
   "execution_count": null,
   "metadata": {},
   "outputs": [],
   "source": []
  }
 ],
 "metadata": {
  "kernelspec": {
   "display_name": "Python 3",
   "language": "python",
   "name": "python3"
  },
  "language_info": {
   "codemirror_mode": {
    "name": "ipython",
    "version": 3
   },
   "file_extension": ".py",
   "mimetype": "text/x-python",
   "name": "python",
   "nbconvert_exporter": "python",
   "pygments_lexer": "ipython3",
   "version": "3.9.1"
  },
  "orig_nbformat": 4
 },
 "nbformat": 4,
 "nbformat_minor": 2
}
